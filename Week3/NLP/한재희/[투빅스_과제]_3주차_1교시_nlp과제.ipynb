{
  "nbformat": 4,
  "nbformat_minor": 0,
  "metadata": {
    "colab": {
      "provenance": [],
      "collapsed_sections": [
        "bvBReF1_XOS1",
        "QwarPXXKaFbO"
      ],
      "gpuType": "T4"
    },
    "kernelspec": {
      "name": "python3",
      "display_name": "Python 3"
    },
    "language_info": {
      "name": "python"
    },
    "accelerator": "GPU"
  },
  "cells": [
    {
      "cell_type": "markdown",
      "source": [
        "### 1. Text Preprocessing (텍스트 전처리)\n",
        "설명) 모델이 텍스트를 이해하기 전에, 사람이 사용하는 언어를 기계가 처리하기 좋은 형태로 다듬는 과정이 필요합니다. 이를 텍스트 전처리라고 합니다. 여기서는 가장 기본적인 **토큰화(Tokenization)**와 **불용어 제거(Stopword Removal)**를 실습해 보겠습니다."
      ],
      "metadata": {
        "id": "QSbabnrOUyc3"
      }
    },
    {
      "cell_type": "code",
      "source": [
        "pip install numpy==1.23.5 scipy==1.10.1 gensim==4.3.2"
      ],
      "metadata": {
        "colab": {
          "base_uri": "https://localhost:8080/"
        },
        "id": "5lipDoXyx-aL",
        "outputId": "89964358-1de3-455b-bee9-90cf0f8c4573"
      },
      "execution_count": null,
      "outputs": [
        {
          "output_type": "stream",
          "name": "stdout",
          "text": [
            "Collecting numpy==1.23.5\n",
            "  Downloading numpy-1.23.5.tar.gz (10.7 MB)\n",
            "\u001b[2K     \u001b[90m━━━━━━━━━━━━━━━━━━━━━━━━━━━━━━━━━━━━━━━━\u001b[0m \u001b[32m10.7/10.7 MB\u001b[0m \u001b[31m75.8 MB/s\u001b[0m eta \u001b[36m0:00:00\u001b[0m\n",
            "\u001b[?25h  Installing build dependencies ... \u001b[?25l\u001b[?25hdone\n",
            "  \u001b[1;31merror\u001b[0m: \u001b[1msubprocess-exited-with-error\u001b[0m\n",
            "  \n",
            "  \u001b[31m×\u001b[0m \u001b[32mGetting requirements to build wheel\u001b[0m did not run successfully.\n",
            "  \u001b[31m│\u001b[0m exit code: \u001b[1;36m1\u001b[0m\n",
            "  \u001b[31m╰─>\u001b[0m See above for output.\n",
            "  \n",
            "  \u001b[1;35mnote\u001b[0m: This error originates from a subprocess, and is likely not a problem with pip.\n",
            "  Getting requirements to build wheel ... \u001b[?25l\u001b[?25herror\n",
            "\u001b[1;31merror\u001b[0m: \u001b[1msubprocess-exited-with-error\u001b[0m\n",
            "\n",
            "\u001b[31m×\u001b[0m \u001b[32mGetting requirements to build wheel\u001b[0m did not run successfully.\n",
            "\u001b[31m│\u001b[0m exit code: \u001b[1;36m1\u001b[0m\n",
            "\u001b[31m╰─>\u001b[0m See above for output.\n",
            "\n",
            "\u001b[1;35mnote\u001b[0m: This error originates from a subprocess, and is likely not a problem with pip.\n"
          ]
        }
      ]
    },
    {
      "cell_type": "code",
      "source": [
        "# nltk 라이브러리 설치\n",
        "!pip install nltk\n",
        "\n",
        "import nltk\n",
        "from nltk.tokenize import word_tokenize\n",
        "\n",
        "# 데이터 다운로드\n",
        "nltk.download('punkt')\n",
        "nltk.download('punkt_tab')"
      ],
      "metadata": {
        "colab": {
          "base_uri": "https://localhost:8080/"
        },
        "id": "pWY1UJ9xrHGA",
        "outputId": "6d75f0e4-1e46-4bbb-dacf-fa516f1986f3"
      },
      "execution_count": null,
      "outputs": [
        {
          "output_type": "stream",
          "name": "stdout",
          "text": [
            "Requirement already satisfied: nltk in /usr/local/lib/python3.12/dist-packages (3.9.1)\n",
            "Requirement already satisfied: click in /usr/local/lib/python3.12/dist-packages (from nltk) (8.2.1)\n",
            "Requirement already satisfied: joblib in /usr/local/lib/python3.12/dist-packages (from nltk) (1.5.1)\n",
            "Requirement already satisfied: regex>=2021.8.3 in /usr/local/lib/python3.12/dist-packages (from nltk) (2024.11.6)\n",
            "Requirement already satisfied: tqdm in /usr/local/lib/python3.12/dist-packages (from nltk) (4.67.1)\n"
          ]
        },
        {
          "output_type": "stream",
          "name": "stderr",
          "text": [
            "[nltk_data] Downloading package punkt to /root/nltk_data...\n",
            "[nltk_data]   Unzipping tokenizers/punkt.zip.\n",
            "[nltk_data] Downloading package punkt_tab to /root/nltk_data...\n",
            "[nltk_data]   Unzipping tokenizers/punkt_tab.zip.\n"
          ]
        },
        {
          "output_type": "execute_result",
          "data": {
            "text/plain": [
              "True"
            ]
          },
          "metadata": {},
          "execution_count": 6
        }
      ]
    },
    {
      "cell_type": "code",
      "source": [
        "# 텍스트\n",
        "text = \"자연어 처리, 즉 NLP는 매우 흥미로운 연구 분야입니다. 컴퓨터가 인간의 언어를 이해하고 처리할 수 있도록 해줍니다.\"\n",
        "\n",
        "# 1. 토큰화:\n",
        "tokens = word_tokenize(text)\n",
        "print(\"1. 원본 토큰:\", tokens)\n",
        "\n",
        "# 2. 불용어 제거:\n",
        "stop_words = ['즉', '는', '가', '이', '을', '를', '의', '에', '들', '은', '입니다', '하고', '수', '있도록']\n",
        "filtered_tokens = [word for word in tokens if word.isalnum() and word not in stop_words]\n",
        "\n",
        "print(\"\\n2. 직접 정의한 불용어:\", sorted(list(stop_words)))\n",
        "print(\"  기존 불용어 제거 후 토큰:\", filtered_tokens)\n",
        "\n",
        "# ----- 문제1) stop_words 리스트 빈칸 채우세요.\n",
        "stop_words.extend(['분야', '연구'])\n",
        "\n",
        "# 추가된 불용어 목록을 적용하여 다시 필터링\n",
        "problem1_filtered_tokens = [word for word in tokens if word.isalnum() and word not in stop_words]\n",
        "\n",
        "print(\"'분야', '연구' 추가 후 결과:\", problem1_filtered_tokens)"
      ],
      "metadata": {
        "colab": {
          "base_uri": "https://localhost:8080/"
        },
        "id": "I_HfkcRiVFw6",
        "outputId": "a4546a8b-2502-4c62-cfd0-fb08b8493ebd"
      },
      "execution_count": null,
      "outputs": [
        {
          "output_type": "stream",
          "name": "stdout",
          "text": [
            "1. 원본 토큰: ['자연어', '처리', ',', '즉', 'NLP는', '매우', '흥미로운', '연구', '분야입니다', '.', '컴퓨터가', '인간의', '언어를', '이해하고', '처리할', '수', '있도록', '해줍니다', '.']\n",
            "\n",
            "2. 직접 정의한 불용어: ['가', '는', '들', '를', '수', '에', '은', '을', '의', '이', '입니다', '있도록', '즉', '하고']\n",
            "  기존 불용어 제거 후 토큰: ['자연어', '처리', 'NLP는', '매우', '흥미로운', '연구', '분야입니다', '컴퓨터가', '인간의', '언어를', '이해하고', '처리할', '해줍니다']\n",
            "'분야', '연구' 추가 후 결과: ['자연어', '처리', 'NLP는', '매우', '흥미로운', '분야입니다', '컴퓨터가', '인간의', '언어를', '이해하고', '처리할', '해줍니다']\n"
          ]
        }
      ]
    },
    {
      "cell_type": "markdown",
      "source": [
        "#### ✅ 문제1) 위 코드의 stop_words에 **'분야', '연구'**를 추가하여 불용어로 처리한 후, 결과가 어떻게 달라지는지 확인해보세요. (기존 결과와 불용어 처리 후 결과와 비교해 진행해보기)\n",
        "\n",
        "\n",
        "‘연구’는 불용어 처리로 토큰 리스트에서 사라지만, ‘분야입니다’는 불용어로 추가한 ‘분야’를 포함하고 있지만 ‘입니다’라는 어미가 붙어 있어 제거되지 않는다. 이런 경우에는 형태소 분석으로 어미·조사를 분리하거나, stop_words에 ‘분야입니다’를 직접 추가해야 한다."
      ],
      "metadata": {
        "id": "UehObi0PViOf"
      }
    },
    {
      "cell_type": "markdown",
      "source": [
        "#### ✅ 문제2) 토큰화 결과에 포함된 ','나 '.' 같은 구두점들이 불용어 제거 과정에서 어떻게 처리되었나요? 그 이유는 무엇일까요?\n",
        "\n",
        "word.isalnum() 조건 때문에 알파벳/숫자가 아닌 기호(, . 등) 은 걸러져서 제거되기 때문에 불용어 처리 이전에 이미 제외되었다."
      ],
      "metadata": {
        "id": "aNBYJpofWC49"
      }
    },
    {
      "cell_type": "markdown",
      "source": [
        "### 2. N-gram\n",
        "설명) N-gram은 텍스트에서 연속된 n개의 단어 뭉치를 의미합니다. N-gram은 문맥을 파악하는 간단하면서도 효과적인 방법입니다. 1-gram은 유니그램(unigram), 2-gram은 바이그램(bigram), 3-gram은 트라이그램(trigram)이라고도 부릅니다."
      ],
      "metadata": {
        "id": "Tro2WBtUWeI5"
      }
    },
    {
      "cell_type": "code",
      "source": [
        "def generate_ngrams(text, n):\n",
        "    words = text.split()\n",
        "    ngrams = zip(*[words[i:] for i in range(n)])\n",
        "    return [\" \".join(ngram) for ngram in ngrams]\n",
        "\n",
        "# 시작 문장 (수정 대상)\n",
        "sentences = [\n",
        "  \"오늘 날씨가 정말 좋네요.\",\n",
        "  \"저는 아침에 커피를 마십니다.\",\n",
        "  \"주말에 친구를 만나기로 했어요.\",\n",
        "  \"퇴근하고 집에 가는 길입니다.\",\n",
        "  \"오늘 저녁 메뉴는 무엇인가요?\"\n",
        "]\n",
        "\n",
        "# 초기 N-gram 개수 확인\n",
        "initial_bigrams = sum(len(generate_ngrams(s, 2)) for s in sentences)\n",
        "initial_trigrams = sum(len(generate_ngrams(s, 3)) for s in sentences)\n",
        "\n",
        "print(f\"Initial Bigram Count: {initial_bigrams}\")   # 기존 결과: 15\n",
        "print(f\"Initial Trigram Count: {initial_trigrams}\") # 기존 결과: 10"
      ],
      "metadata": {
        "colab": {
          "base_uri": "https://localhost:8080/"
        },
        "id": "x08cP61uWdjd",
        "outputId": "b16f4f00-1886-444e-e960-cc7d2c5bfe5b"
      },
      "execution_count": null,
      "outputs": [
        {
          "output_type": "stream",
          "name": "stdout",
          "text": [
            "Initial Bigram Count: 15\n",
            "Initial Trigram Count: 10\n"
          ]
        }
      ]
    },
    {
      "cell_type": "markdown",
      "source": [
        "#### ✅ 문제1 ) 아래 sentences 배열의 문장들을 수정하거나 새로운 문장을 추가하여, 전체 2-gram의 수가 25개 이상, 3-gram의 수가 15개 이상이 되도록 만들어보세요."
      ],
      "metadata": {
        "id": "bvBReF1_XOS1"
      }
    },
    {
      "cell_type": "code",
      "source": [
        "def generate_ngrams(text, n):\n",
        "    words = text.split()\n",
        "    ngrams = zip(*[words[i:] for i in range(n)])\n",
        "    return [\" \".join(ngram) for ngram in ngrams]\n",
        "\n",
        "# 시작 문장 (수정 대상)\n",
        "sentences = [\n",
        "  \"오늘 날씨가 정말 좋네요. 하늘도 맑고 바람도 선선합니다.\",\n",
        "  \"저는 아침에 커피를 마십니다. 그리고 빵도 같이 먹어요.\",\n",
        "  \"주말에 친구를 만나기로 했어요. 함께 영화도 보고 식사도 할 예정입니다.\",\n",
        "  \"퇴근하고 집에 가는 길입니다. 길이 한적해서 좋네요.\",\n",
        "  \"오늘 저녁 메뉴는 무엇인가요? 치킨을 시켜 먹을까 고민 중입니다.\"\n",
        "]\n",
        "\n",
        "# 초기 N-gram 개수 확인\n",
        "initial_bigrams = sum(len(generate_ngrams(s, 2)) for s in sentences)\n",
        "initial_trigrams = sum(len(generate_ngrams(s, 3)) for s in sentences)\n",
        "\n",
        "print(f\"Initial Bigram Count: {initial_bigrams}\")   # 기존 결과: 15\n",
        "print(f\"Initial Trigram Count: {initial_trigrams}\") # 기존 결과: 10"
      ],
      "metadata": {
        "colab": {
          "base_uri": "https://localhost:8080/"
        },
        "outputId": "abdbccb6-2753-45ad-a14f-2f4482e012ea",
        "id": "RtsQEa7fWecU"
      },
      "execution_count": null,
      "outputs": [
        {
          "output_type": "stream",
          "name": "stdout",
          "text": [
            "Initial Bigram Count: 37\n",
            "Initial Trigram Count: 32\n"
          ]
        }
      ]
    },
    {
      "cell_type": "markdown",
      "source": [
        "#### ✅ 문제2) N-gram 모델은 간단하지만 한계가 있습니다. 예를 들어, \"강아지가 고양이를 좋아해\"와 \"고양이가 강아지를 좋아해\"는 1-gram의 구성과 빈도는 같지만 의미는 다릅니다. 이처럼 N-gram이 문장의 구조적, 의미적 정보를 완전히 파악하기 어려운 이유는 무엇일까요?\n",
        "\n",
        "N-gram은 단순히 연속된 n개의 단어만 고려하기 때문에, 문장의 순서와 구조, 의미를 완전히 이해하지 못하는 한계가 있다. 예를 들어, “강아지가 고양이를 좋아해”와 “고양이가 강아지를 좋아해”는 1-gram 관점에서는 같은 단어를 포함하고 같은 빈도를 가지지만, 의미는 완전히 다르다. N-gram은 단어의 순서 일부만 반영하기 때문에 주어와 목적어 관계 같은 문장 구조를 제대로 파악할 수 없다. 따라서 N-gram은 문맥 정보를 부분적으로만 포착할 수 있어, 긴 의존관계나 문장 전체 의미를 이해하는 데에는 한계가 있다."
      ],
      "metadata": {
        "id": "b888roluXoX-"
      }
    },
    {
      "cell_type": "markdown",
      "source": [
        "### 3. Word Embedding (워드 임베딩)\n",
        "1. Word2Vec\n",
        "설명) Word2Vec은 단어를 벡터 공간에 표현하는 기법입니다. 단어의 의미적 유사성을 벡터 간의 기하학적 관계로 나타낼 수 있으며, \"왕 - 남자 + 여자 = 여왕\"과 같은 유추가 가능해집니다."
      ],
      "metadata": {
        "id": "LXMwLgfVXwz8"
      }
    },
    {
      "cell_type": "code",
      "source": [
        "import gensim\n",
        "import gensim.downloader as api\n",
        "\n",
        "model_w2v = api.load(\"word2vec-google-news-300\")"
      ],
      "metadata": {
        "colab": {
          "base_uri": "https://localhost:8080/"
        },
        "id": "2IjzeEfNsZZl",
        "outputId": "584a336a-a868-4551-c992-b97a9ce78607"
      },
      "execution_count": null,
      "outputs": [
        {
          "output_type": "stream",
          "name": "stdout",
          "text": [
            "[==================================================] 100.0% 1662.8/1662.8MB downloaded\n"
          ]
        }
      ]
    },
    {
      "cell_type": "code",
      "source": [
        "# \"한국에서 서울을 뺀 벡터에 도쿄를 더하면 어떤 단어와 가장 가까울까?\"\n",
        "result = model_w2v.most_similar(positive=['Tokyo', 'Korea'], negative=['Seoul'], topn=1)\n",
        "print(f\"'Korea' - 'Seoul' + 'Tokyo' ≈ '{result[0][0]}'\")\n",
        "\n",
        "# 'computer'와 가장 유사한 단어들은?\n",
        "similar_words = model_w2v.most_similar('computer', topn=5)\n",
        "print(\"\\nWords similar to 'computer':\", similar_words)\n",
        "\n",
        "# 관계가 맞지 않는 단어 찾기\n",
        "odd_one_out = model_w2v.doesnt_match([\"apple\", \"banana\", \"lemon\", \"car\"])\n",
        "print(f\"\\nWhich word does not belong in ['apple', 'banana', 'lemon', 'car']? -> '{odd_one_out}'\")"
      ],
      "metadata": {
        "colab": {
          "base_uri": "https://localhost:8080/"
        },
        "id": "TK-QBhyDX-A6",
        "outputId": "5291abc5-679d-434a-fa4b-247a0ec5669f"
      },
      "execution_count": null,
      "outputs": [
        {
          "output_type": "stream",
          "name": "stdout",
          "text": [
            "'Korea' - 'Seoul' + 'Tokyo' ≈ 'Japan'\n",
            "\n",
            "Words similar to 'computer': [('computers', 0.7979379892349243), ('laptop', 0.6640493273735046), ('laptop_computer', 0.6548868417739868), ('Computer', 0.647333562374115), ('com_puter', 0.6082080006599426)]\n",
            "\n",
            "Which word does not belong in ['apple', 'banana', 'lemon', 'car']? -> 'car'\n"
          ]
        }
      ]
    },
    {
      "cell_type": "markdown",
      "source": [
        "#### **위 코드를 수정하여 문제1 ~ 문제3까지 진행하세요!**"
      ],
      "metadata": {
        "id": "5Ew79RT6TJP1"
      }
    },
    {
      "cell_type": "markdown",
      "source": [
        "#### ✅ 문제1) 'Korea' - 'Seoul' + 'Tokyo' ≈ ?\n",
        "\n",
        "위 유추식의 결과로 어떤 단어가 나올지 예상해보고, 코드를 수정하여 확인해보세요."
      ],
      "metadata": {
        "id": "pU83iCKLYDtP"
      }
    },
    {
      "cell_type": "markdown",
      "source": [
        "#### ✅ 문제2) model_w2v.most_similar() 함수를 사용해 'computer'과 가장 유사한 단어 5개를 찾아보세요."
      ],
      "metadata": {
        "id": "zE7VDXK7YSzw"
      }
    },
    {
      "cell_type": "markdown",
      "source": [
        "#### ✅ 문제3) model_w2v.doesnt_match() 함수에 [\"apple\", \"banana\", \"lemon\", \"car\"] 리스트를 넣어 어떤 단어가 가장 이질적인지 확인해보세요."
      ],
      "metadata": {
        "id": "9HqKjrClYbUG"
      }
    },
    {
      "cell_type": "markdown",
      "source": [
        "### 4. GloVe (Global Vectors for Word Representation)\n",
        "설명) GloVe는 Word2Vec과 유사한 임베딩 기법이지만, 전체 단어의 동시 등장 통계(Global Co-occurrence Statistics) 정보를 함께 활용하여 학습하는 점이 특징입니다."
      ],
      "metadata": {
        "id": "R8kFhBnhYhSY"
      }
    },
    {
      "cell_type": "code",
      "source": [
        "model_glove = api.load(\"glove-wiki-gigaword-100\")"
      ],
      "metadata": {
        "colab": {
          "base_uri": "https://localhost:8080/"
        },
        "id": "sO91Oq720irv",
        "outputId": "bb85863b-0ce2-4b77-8ce9-760c90b821db"
      },
      "execution_count": null,
      "outputs": [
        {
          "output_type": "stream",
          "name": "stdout",
          "text": [
            "[==================================================] 100.0% 128.1/128.1MB downloaded\n"
          ]
        }
      ]
    },
    {
      "cell_type": "code",
      "source": [
        "result = model_glove.most_similar(positive=['doctor', 'court'], negative=['hospital'], topn=1)\n",
        "print(f\"'doctor' - 'hospital' + 'court' ≈ '{result[0][0]}'\")"
      ],
      "metadata": {
        "colab": {
          "base_uri": "https://localhost:8080/"
        },
        "id": "yspJxfXvYsxo",
        "outputId": "85eef686-f599-494e-e9ac-3cb3f37a73da"
      },
      "execution_count": null,
      "outputs": [
        {
          "output_type": "stream",
          "name": "stdout",
          "text": [
            "'doctor' - 'hospital' + 'court' ≈ 'judge'\n"
          ]
        }
      ]
    },
    {
      "cell_type": "markdown",
      "source": [
        "#### ✅ 문제1) 'man' - 'king' + 'queen' ≈ ?  (위 코드를 수정해서 진행하시면 됩니다.)\n",
        "\n",
        "위 유추식의 결과로 어떤 단어가 나올지 GloVe 모델로 확인해보세요. Word2Vec과 결과가 비슷한가요?"
      ],
      "metadata": {
        "id": "A-x1vbJpYz2M"
      }
    },
    {
      "cell_type": "code",
      "source": [
        "result = model_glove.most_similar(positive=['queen', 'man'], negative=['king'], topn=1)\n",
        "print(f\"'man' - 'king' + 'queen' ≈ '{result[0][0]}'\")"
      ],
      "metadata": {
        "colab": {
          "base_uri": "https://localhost:8080/"
        },
        "id": "Ueqi7PvKYDtD",
        "outputId": "dbe44322-ce25-4f8a-9177-9126079e46b1"
      },
      "execution_count": null,
      "outputs": [
        {
          "output_type": "stream",
          "name": "stdout",
          "text": [
            "'man' - 'king' + 'queen' ≈ 'woman'\n"
          ]
        }
      ]
    },
    {
      "cell_type": "markdown",
      "source": [
        "GloVe 모델에서 'man' - 'king' + 'queen' 연산을 수행하면 의미상 남성과 여성의 관계를 반영하여 'woman'과 같은 단어가 나온다. Word2Vec과 유사하게 성별 관계를 잘 포착하지만, 학습 방식의 차이로 인해 정확한 단어는 조금 다를 수 있다."
      ],
      "metadata": {
        "id": "Lb1Rp5y-YIrh"
      }
    },
    {
      "cell_type": "markdown",
      "source": [
        "#### ✅ 문제2) Word2Vec과 GloVe는 각각 다른 방식으로 단어 벡터를 학습합니다. Word2Vec은 주변 단어를 예측하는 과정에서, GloVe는 전체 단어 동시 등장 확률을 기반으로 학습합니다. 두 방법의 차이점이 어떤 결과의 차이를 만들어낼 수 있을지 생각해보세요.\n",
        "\n",
        "Word2Vec은 주변 단어를 예측하는 방식으로 학습하기 때문에 특정 문맥에서의 단어 유사성을 잘 반영한다. 반면 GloVe는 전체 코퍼스에서의 단어 동시 등장 통계를 활용해 학습하므로 의미적 구조를 전역적으로 안정적으로 포착한다. 따라서 같은 유추 연산을 수행하더라도 Word2Vec과 GloVe는 결과가 약간 달라질 수 있으며, Word2Vec은 문맥 의존적인 유사 단어를, GloVe는 전체 통계 기반의 일반화된 유사 단어를 더 잘 보여준다."
      ],
      "metadata": {
        "id": "eVrzUxuhY7qs"
      }
    },
    {
      "cell_type": "markdown",
      "source": [
        "### 5. Sequence Models (RNN의 한계)\n",
        "설명 ) RNN(순환 신경망)은 시퀀스 데이터 처리에 강점을 갖지만, 시퀀스가 길어질수록 앞쪽의 정보가 뒤쪽으로 전달되기 어려운 **장기 의존성 문제(Long-term Dependency Problem)**라는 구조적 한계를 가집니다. 이는 Transformer와 Attention이 등장하게 된 중요한 배경이 됩니다."
      ],
      "metadata": {
        "id": "cfgE4espZFQ3"
      }
    },
    {
      "cell_type": "markdown",
      "source": [
        "#### ✅ 문제 1)\n",
        "\n",
        "아래와 같은 문장이 있다고 가정해봅시다.\n",
        "\n",
        "**\"오늘 아침 회의에 참석했던, 어제 캐나다에서 막 돌아온 우리 팀의 김 대리는 그 프로젝트의 핵심 담당자이다.\"**\n",
        "\n",
        "이 문장에서 마지막 단어인 '담당자이다'는 문장 맨 앞의 '김 대리'와 가장 밀접한 관련이 있습니다. RNN이 이처럼 멀리 떨어진 단어 간의 관계를 파악하기 어려운 이유는 무엇일까요? (Vanishing Gradient(기울기 소실) 관점에서 간단히 설명해보세요.)"
      ],
      "metadata": {
        "id": "vpMgBoQtZP2S"
      }
    },
    {
      "cell_type": "markdown",
      "source": [
        "RNN은 순차적으로 정보를 전달하면서 학습하는 구조이기 때문에, 역전파 과정에서 **기울기(gradient)**가 계속 곱해지면서 값이 매우 작아지거나 커질 수 있다.\n",
        "\n",
        "이 과정에서 문장 앞쪽의 정보(예: ‘김 대리’)가 뒤쪽 단어(예: ‘담당자이다’)에 도달할 때 기울기가 거의 0에 가까워져 학습이 제대로 이루어지지 않는 현상이 발생하는데 이를 Vanishing Gradient 문제라고 한다.\n",
        "\n",
        "즉, RNN은 문장이 길어질수록 앞쪽 단어의 영향력이 뒤쪽 단어에 전달되기 어려워서, ‘김 대리’와 ‘담당자이다’처럼 멀리 떨어진 단어 간 관계를 파악하기 어렵다."
      ],
      "metadata": {
        "id": "mZrhC5RXYfog"
      }
    },
    {
      "cell_type": "markdown",
      "source": [
        "### 6. Attention, Transformer\n",
        "\n",
        "1. . Transformer 구조\n",
        "Query, Key, Value 소개\n",
        "\n",
        "Attention 메커니즘은 Query(쿼리), Key(키), Value(값) 라는 세 가지 개념을 사용해 문장 내 단어 간의 관계 가중치를 계산합니다. 도서관에서 책을 찾는 것에 비유할 수 있습니다.\n",
        "\n",
        "Query: 내가 찾고 싶은 정보\n",
        "\n",
        "Key: 각 책의 주제나 제목\n",
        "\n",
        "Value: 책의 실제 내용\n",
        "\n",
        "Attention은 내 Query와 가장 관련성이 높은 Key(유사도 계산)를 찾고, 해당 Key에 연결된 Value(실제 내용)를 더 많이 가져오는 방식으로 동작합니다. Self-Attention에서는 이 세 가지가 모두 같은 문장 내 단어들로부터 나옵니다."
      ],
      "metadata": {
        "id": "b1DneWhHZfTJ"
      }
    },
    {
      "cell_type": "markdown",
      "source": [
        "💻 Self-Attention 실습"
      ],
      "metadata": {
        "id": "BqOKQWKJZs_Y"
      }
    },
    {
      "cell_type": "code",
      "source": [
        "import numpy as np\n",
        "import matplotlib.pyplot as plt\n",
        "\n",
        "def softmax(x, axis=-1):\n",
        "    exp_x = np.exp(x - np.max(x, axis=axis, keepdims=True))\n",
        "    return exp_x / np.sum(exp_x, axis=axis, keepdims=True)\n",
        "\n",
        "# 문장: \"그 동물은 길을 건너지 않았다. 왜냐하면 그것(it)이 너무 피곤했기 때문이다.\"\n",
        "tokens = \"The animal didn't cross the street because it was too tired\".split()\n",
        "\n",
        "# 임의의 임베딩 생성 (실제로는 학습된 임베딩 사용)\n",
        "embedding_dim = 64\n",
        "np.random.seed(42)\n",
        "X = np.random.rand(len(tokens), embedding_dim)\n",
        "\n",
        "Q, K, V = X, X, X\n",
        "d_k = K.shape[-1]\n",
        "\n",
        "# Attention 점수 계산\n",
        "scores = np.dot(Q, K.T) / np.sqrt(d_k)\n",
        "attention_weights = softmax(scores)\n",
        "\n",
        "# 'it'이 Query일 때의 Attention 가중치 출력\n",
        "it_index = tokens.index('it')\n",
        "it_attention = attention_weights[it_index]\n",
        "\n",
        "print(\"Attention weights for the query 'it':\")\n",
        "for token, weight in zip(tokens, it_attention):\n",
        "    print(f\"{token}: {weight:.4f}\")\n",
        "\n",
        "# Heatmap 시각화\n",
        "plt.figure(figsize=(7, 6))\n",
        "plt.imshow(attention_weights, cmap='viridis')\n",
        "plt.colorbar(label='Attention Weight')\n",
        "plt.xticks(ticks=range(len(tokens)), labels=tokens, rotation=45)\n",
        "plt.yticks(ticks=range(len(tokens)), labels=tokens)\n",
        "plt.title(\"Self-Attention Heatmap\")\n",
        "plt.xlabel(\"Key Tokens\")\n",
        "plt.ylabel(\"Query Tokens\")\n",
        "plt.tight_layout()\n",
        "plt.show()"
      ],
      "metadata": {
        "colab": {
          "base_uri": "https://localhost:8080/",
          "height": 825
        },
        "id": "hv72e5YcZ1iR",
        "outputId": "d231029d-cf83-47b9-de3c-b8d1bf03a8b6"
      },
      "execution_count": null,
      "outputs": [
        {
          "output_type": "stream",
          "name": "stdout",
          "text": [
            "Attention weights for the query 'it':\n",
            "The: 0.0736\n",
            "animal: 0.0863\n",
            "didn't: 0.0679\n",
            "cross: 0.0908\n",
            "the: 0.0838\n",
            "street: 0.0711\n",
            "because: 0.0981\n",
            "it: 0.2210\n",
            "was: 0.0899\n",
            "too: 0.0545\n",
            "tired: 0.0630\n"
          ]
        },
        {
          "output_type": "display_data",
          "data": {
            "text/plain": [
              "<Figure size 700x600 with 2 Axes>"
            ],
            "image/png": "[encoded data removed]"
          },
          "metadata": {}
        }
      ]
    },
    {
      "cell_type": "markdown",
      "source": [
        "#### ✅ 문제1) 위 코드의 실행 결과(Attention 가중치)와 히트맵을 확인하세요. Query가 'it'일 때, 'animal'과 'street' 중 어떤 Key의 가중치(Attention Score)가 더 높게 나왔나요? (실행 시마다 결과는 다를 수 있지만 일반적인 경향성을 보세요.)\n",
        "\n",
        "Query가 'it'일 때, 일반적인 경향으로 보면 'animal'의 Attention 가중치가 'street'보다 더 높게 나타난다. 이는 'it'이 문장에서 'animal'을 가리키는 대명사이기 때문이다. 히트맵에서도 'it' 행에서 'animal' 열의 색이 더 진하게 나타나, 모델이 의미상 멀리 떨어진 단어 간 관계를 효과적으로 반영함을 보여준다."
      ],
      "metadata": {
        "id": "Bk5uN8d1aAQf"
      }
    },
    {
      "cell_type": "markdown",
      "source": [
        "#### ✅ 문제2) Self-Attention은 왜 RNN의 장기 의존성 문제를 해결할 수 있을까요? (계산 방식의 차이점을 생각해보세요.)\n",
        "\n",
        "Self-Attention은 모든 단어가 한 번에 서로의 정보를 직접 참조하며 가중치를 계산한다. 따라서 문장의 앞쪽과 뒤쪽 단어 간의 관계를 계산 과정에서 바로 반영할 수 있다. 반면 RNN은 순차적으로 정보를 전달하기 때문에 멀리 떨어진 단어 간 관계가 희석되는 장기 의존성 문제가 발생한다. Self-Attention은 계산 방식상 이러한 문제를 해결한다."
      ],
      "metadata": {
        "id": "QwarPXXKaFbO"
      }
    },
    {
      "cell_type": "markdown",
      "source": [
        "####💻 Masked Self-Attention (디코더) 실습\n",
        "설명) Transformer의 디코더는 다음 단어를 예측하는 역할을 합니다. 이때, 정답을 미리 보고 예측하는 것을 방지하기 위해 현재 예측하려는 위치보다 뒤에 있는 단어들을 가리는 마스킹(Masking) 과정이 필요합니다."
      ],
      "metadata": {
        "id": "6ED2QXAGa-gB"
      }
    },
    {
      "cell_type": "code",
      "source": [
        "# 5x5 크기의 임의의 Attention 점수 행렬 생성\n",
        "np.random.seed(42)\n",
        "scores = np.random.rand(5, 5)\n",
        "print(\"Original Scores:\\n\", np.round(scores, 2))\n",
        "\n",
        "# 마스크 생성\n",
        "mask = np.triu(np.ones((5, 5)), k=1).astype('bool')\n",
        "\n",
        "# 마스킹 적용 (마스킹된 점수에 Softmax를 적용)\n",
        "scores[mask] = -np.inf\n",
        "print(\"\\nMasked Scores:\\n\", np.round(scores, 2))\n",
        "\n",
        "# Softmax 적용 후 결과\n",
        "attention_weights = softmax(scores, axis=-1)\n",
        "print(\"\\nAttention Weights after Masking and Softmax:\\n\", np.round(attention_weights, 2))"
      ],
      "metadata": {
        "colab": {
          "base_uri": "https://localhost:8080/"
        },
        "id": "HEQXRRAQbD3-",
        "outputId": "224e204a-16f4-4be6-9e47-ae28f97d17d6"
      },
      "execution_count": null,
      "outputs": [
        {
          "output_type": "stream",
          "name": "stdout",
          "text": [
            "Original Scores:\n",
            " [[0.37 0.95 0.73 0.6  0.16]\n",
            " [0.16 0.06 0.87 0.6  0.71]\n",
            " [0.02 0.97 0.83 0.21 0.18]\n",
            " [0.18 0.3  0.52 0.43 0.29]\n",
            " [0.61 0.14 0.29 0.37 0.46]]\n",
            "\n",
            "Masked Scores:\n",
            " [[0.37 -inf -inf -inf -inf]\n",
            " [0.16 0.06 -inf -inf -inf]\n",
            " [0.02 0.97 0.83 -inf -inf]\n",
            " [0.18 0.3  0.52 0.43 -inf]\n",
            " [0.61 0.14 0.29 0.37 0.46]]\n",
            "\n",
            "Attention Weights after Masking and Softmax:\n",
            " [[1.   0.   0.   0.   0.  ]\n",
            " [0.52 0.48 0.   0.   0.  ]\n",
            " [0.17 0.44 0.39 0.   0.  ]\n",
            " [0.21 0.23 0.29 0.27 0.  ]\n",
            " [0.25 0.16 0.18 0.2  0.21]]\n"
          ]
        }
      ]
    },
    {
      "cell_type": "markdown",
      "source": [
        "#### ✅ 문제1) 마지막으로 출력된 Attention Weights 행렬을 보세요. 각 행(Query)은 왜 자기 자신과 그 이전 위치(Key)에만 0이 아닌 가중치를 가지나요?\n",
        "\n",
        "Masked Self-Attention에서 각 행(Query)은 자기 자신과 그 이전 위치(Key)에만 0이 아닌 가중치를 가진다. 이는 디코더가 현재 위치보다 뒤의 단어 정보를 참조하지 못하도록 마스킹했기 때문이다. 이렇게 하면 모델이 미래 단어를 미리 보지 않고 순차적으로 다음 단어를 예측하도록 학습한다.\n",
        "\n"
      ],
      "metadata": {
        "id": "ZeJckFqKbKZl"
      }
    },
    {
      "cell_type": "markdown",
      "source": [
        "#### ✅ 문제2) 번역 모델이 \"나는 학생입니다\"를 순서대로 생성할 때, '학생'을 예측하는 시점에서 정답인 '입니다'를 미리 참고하지 못하게 막는 것이 왜 중요한가요? 이 마스킹의 역할과 연관지어 설명해보세요.\n",
        "\n",
        "번역 모델이 “나는 학생입니다”를 생성할 때, '학생'을 예측하는 시점에서 정답인 '입니다'를 미리 참고하면 모델이 실제 번역 과정과 다른 정보를 학습하게 된다. 마스킹은 미래 단어 정보를 차단함으로써 모델이 이전 단어들만 기반으로 다음 단어를 예측하도록 만들고, 실제 번역 시퀀스 생성과 일치하게 학습한다."
      ],
      "metadata": {
        "id": "hS39VAS4bMpP"
      }
    },
    {
      "cell_type": "markdown",
      "source": [
        "## 문제는 여기까지 입니다. 수고하셨습니다 :)"
      ],
      "metadata": {
        "id": "nX5jbs8PbSV7"
      }
    }
  ]
}