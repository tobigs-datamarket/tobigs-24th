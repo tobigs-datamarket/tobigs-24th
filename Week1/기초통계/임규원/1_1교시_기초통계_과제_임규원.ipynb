{
  "cells": [
    {
      "cell_type": "markdown",
      "metadata": {
        "id": "FyyATfDyEaRU"
      },
      "source": [
        "## 0. 1주차 - 기초 통계 과제는 회귀분석을 직접 해보는 것입니다.\n",
        "## 1번에서는 회귀분석 결과에 대한 해석을 서술형으로 작성해주시고,\n",
        "## 2번에서는 직접 코드를 작성까지해주세요."
      ]
    },
    {
      "cell_type": "markdown",
      "metadata": {
        "id": "Whkfw7weEvf5"
      },
      "source": [
        "## 1. 회귀분석 결과 해석"
      ]
    },
    {
      "cell_type": "code",
      "execution_count": 2,
      "metadata": {
        "colab": {
          "base_uri": "https://localhost:8080/",
          "height": 206
        },
        "id": "SFaFxrc3D_ch",
        "outputId": "bb28f235-a8a4-4188-c315-270039a03807"
      },
      "outputs": [
        {
          "data": {
            "text/html": [
              "<div>\n",
              "<style scoped>\n",
              "    .dataframe tbody tr th:only-of-type {\n",
              "        vertical-align: middle;\n",
              "    }\n",
              "\n",
              "    .dataframe tbody tr th {\n",
              "        vertical-align: top;\n",
              "    }\n",
              "\n",
              "    .dataframe thead th {\n",
              "        text-align: right;\n",
              "    }\n",
              "</style>\n",
              "<table border=\"1\" class=\"dataframe\">\n",
              "  <thead>\n",
              "    <tr style=\"text-align: right;\">\n",
              "      <th></th>\n",
              "      <th>Unnamed: 0</th>\n",
              "      <th>TV</th>\n",
              "      <th>radio</th>\n",
              "      <th>newspaper</th>\n",
              "      <th>sales</th>\n",
              "    </tr>\n",
              "  </thead>\n",
              "  <tbody>\n",
              "    <tr>\n",
              "      <th>0</th>\n",
              "      <td>1</td>\n",
              "      <td>230.1</td>\n",
              "      <td>37.8</td>\n",
              "      <td>69.2</td>\n",
              "      <td>22.1</td>\n",
              "    </tr>\n",
              "    <tr>\n",
              "      <th>1</th>\n",
              "      <td>2</td>\n",
              "      <td>44.5</td>\n",
              "      <td>39.3</td>\n",
              "      <td>45.1</td>\n",
              "      <td>10.4</td>\n",
              "    </tr>\n",
              "    <tr>\n",
              "      <th>2</th>\n",
              "      <td>3</td>\n",
              "      <td>17.2</td>\n",
              "      <td>45.9</td>\n",
              "      <td>69.3</td>\n",
              "      <td>9.3</td>\n",
              "    </tr>\n",
              "    <tr>\n",
              "      <th>3</th>\n",
              "      <td>4</td>\n",
              "      <td>151.5</td>\n",
              "      <td>41.3</td>\n",
              "      <td>58.5</td>\n",
              "      <td>18.5</td>\n",
              "    </tr>\n",
              "    <tr>\n",
              "      <th>4</th>\n",
              "      <td>5</td>\n",
              "      <td>180.8</td>\n",
              "      <td>10.8</td>\n",
              "      <td>58.4</td>\n",
              "      <td>12.9</td>\n",
              "    </tr>\n",
              "  </tbody>\n",
              "</table>\n",
              "</div>"
            ],
            "text/plain": [
              "   Unnamed: 0     TV  radio  newspaper  sales\n",
              "0           1  230.1   37.8       69.2   22.1\n",
              "1           2   44.5   39.3       45.1   10.4\n",
              "2           3   17.2   45.9       69.3    9.3\n",
              "3           4  151.5   41.3       58.5   18.5\n",
              "4           5  180.8   10.8       58.4   12.9"
            ]
          },
          "execution_count": 2,
          "metadata": {},
          "output_type": "execute_result"
        }
      ],
      "source": [
        "import pandas as pd\n",
        "url = \"https://www.statlearning.com/s/Advertising.csv\"\n",
        "df1 = pd.read_csv(url)\n",
        "df1.head()"
      ]
    },
    {
      "cell_type": "markdown",
      "metadata": {
        "id": "PqKwNN3TFYJc"
      },
      "source": [
        "1번 문제에서 사용할 데이터는  'Advertising' 데이터 셋으로 3개의 매체에 투입한 광고비와 해당 제품의 판매량을 나타내고 있습니다.\n",
        "\n",
        "1. TV : TV 광고비 (천 달러 단위)\n",
        "2. Radio : 라디오 광고비\n",
        "3. Newspaper : 신문 광고비\n",
        "4. Sales : 제품 판매량 (단위: 천 개)\n",
        "\n",
        "아래의 회귀분석 코드를 실행하시고, 결과 해석을 적어주세요."
      ]
    },
    {
      "cell_type": "code",
      "execution_count": 3,
      "metadata": {
        "colab": {
          "base_uri": "https://localhost:8080/"
        },
        "id": "qRo0YUk1GPhA",
        "outputId": "f30b37ab-5da9-41e7-b1f9-4b14e33f17d2"
      },
      "outputs": [
        {
          "name": "stdout",
          "output_type": "stream",
          "text": [
            "                            OLS Regression Results                            \n",
            "==============================================================================\n",
            "Dep. Variable:                  sales   R-squared:                       0.612\n",
            "Model:                            OLS   Adj. R-squared:                  0.610\n",
            "Method:                 Least Squares   F-statistic:                     312.1\n",
            "Date:                Tue, 22 Jul 2025   Prob (F-statistic):           1.47e-42\n",
            "Time:                        06:03:38   Log-Likelihood:                -519.05\n",
            "No. Observations:                 200   AIC:                             1042.\n",
            "Df Residuals:                     198   BIC:                             1049.\n",
            "Df Model:                           1                                         \n",
            "Covariance Type:            nonrobust                                         \n",
            "==============================================================================\n",
            "                 coef    std err          t      P>|t|      [0.025      0.975]\n",
            "------------------------------------------------------------------------------\n",
            "const          7.0326      0.458     15.360      0.000       6.130       7.935\n",
            "TV             0.0475      0.003     17.668      0.000       0.042       0.053\n",
            "==============================================================================\n",
            "Omnibus:                        0.531   Durbin-Watson:                   1.935\n",
            "Prob(Omnibus):                  0.767   Jarque-Bera (JB):                0.669\n",
            "Skew:                          -0.089   Prob(JB):                        0.716\n",
            "Kurtosis:                       2.779   Cond. No.                         338.\n",
            "==============================================================================\n",
            "\n",
            "Notes:\n",
            "[1] Standard Errors assume that the covariance matrix of the errors is correctly specified.\n"
          ]
        }
      ],
      "source": [
        "import statsmodels.api as sm\n",
        "from sklearn.linear_model import LinearRegression\n",
        "\n",
        "X = df1[[\"TV\"]]\n",
        "y = df1[\"sales\"]\n",
        "X = sm.add_constant(X)\n",
        "model = sm.OLS(y, X).fit()\n",
        "\n",
        "print(model.summary())"
      ]
    },
    {
      "cell_type": "markdown",
      "metadata": {
        "id": "QrFflbSDHPfx"
      },
      "source": [
        "# 답변 :\n",
        "\n",
        "### ex. 평균적으로 TV 광고비에 천 달러를 더 투자하면 제품 판매량이 ~~개 증가하며, 이 효과는 통계적으로 (유의하다 / 유의하지 않다).\n",
        "\n",
        "종속변수는 sales, 독립변수는 TV이므로 회귀식은 sales = 7.0326 + 0.0475 * TV 가 될 것이다.\\\n",
        "따라서, 평균적으로 TV 광고비에 천 달러를 더 투자하면 제품 판매량이 47.5만큼 증가한다.\\\n",
        "두 계수 모두 p-value가 0.000 이므로 통계적으로 유의하다.'''"
      ]
    },
    {
      "cell_type": "markdown",
      "metadata": {
        "id": "MH3NRVocH9xi"
      },
      "source": [
        "##2. 회귀분석 코드 작성 및 해석"
      ]
    },
    {
      "cell_type": "code",
      "execution_count": 4,
      "metadata": {
        "colab": {
          "base_uri": "https://localhost:8080/"
        },
        "id": "_9OlJ_GtII90",
        "outputId": "77bcd3ec-395d-49f1-84e4-aa27152d8d4d"
      },
      "outputs": [
        {
          "name": "stdout",
          "output_type": "stream",
          "text": [
            "   MedInc  HouseAge  AveRooms  AveBedrms  Population  AveOccup  Latitude  \\\n",
            "0  8.3252      41.0  6.984127   1.023810       322.0  2.555556     37.88   \n",
            "1  8.3014      21.0  6.238137   0.971880      2401.0  2.109842     37.86   \n",
            "2  7.2574      52.0  8.288136   1.073446       496.0  2.802260     37.85   \n",
            "3  5.6431      52.0  5.817352   1.073059       558.0  2.547945     37.85   \n",
            "4  3.8462      52.0  6.281853   1.081081       565.0  2.181467     37.85   \n",
            "\n",
            "   Longitude  MedHouseVal  \n",
            "0    -122.23        4.526  \n",
            "1    -122.22        3.585  \n",
            "2    -122.24        3.521  \n",
            "3    -122.25        3.413  \n",
            "4    -122.25        3.422  \n"
          ]
        }
      ],
      "source": [
        "from sklearn.datasets import fetch_california_housing\n",
        "import pandas as pd\n",
        "\n",
        "housing = fetch_california_housing(as_frame=True)\n",
        "df2 = housing.frame\n",
        "\n",
        "print(df2.head())"
      ]
    },
    {
      "cell_type": "markdown",
      "metadata": {
        "id": "l8L0lVZkIjHW"
      },
      "source": [
        "이번 실습에서는 캘리포니아 주택 가격(California Housing) 데이터를 사용합니다.\n",
        "이 데이터는 1990년 인구조사 데이터를 바탕으로 지역별 주택 가격에 영향을 줄 수 있는 요인들을 포함하고 있습니다.\n",
        "\n",
        "1. MedInc :\t지역의 중위소득 (단위: 만 달러)\n",
        "2. HouseAge :\t해당 지역 주택들의 평균 연식 (단위: 년)\n",
        "3. AveRooms :\t주택 수 대비 총 방 수 비율\n",
        "4. AveBedrms\t: 주택 수 대비 총 침실 수 비율\n",
        "5. Population : \t지역의 총 인구 수\n",
        "6. AveOccup : 총 인구 / 가구 수\n",
        "7. Latitude :\t위도 정보\n",
        "8. Longitude :\t경도 정보\n",
        "9. MedHouseVal :\t중위 주택 가격 (단위: 십만 달러)\n",
        "\n",
        "MedHouseVal를 종속변수로, MedInc을 독립변수로 하는 단일회귀분석 코드를 완성해주세요."
      ]
    },
    {
      "cell_type": "code",
      "execution_count": 7,
      "metadata": {
        "colab": {
          "base_uri": "https://localhost:8080/"
        },
        "id": "RlmchRuNJO-2",
        "outputId": "4611d299-3a75-4901-a637-bda381fb3ea1"
      },
      "outputs": [
        {
          "name": "stdout",
          "output_type": "stream",
          "text": [
            "                            OLS Regression Results                            \n",
            "==============================================================================\n",
            "Dep. Variable:            MedHouseVal   R-squared:                       0.473\n",
            "Model:                            OLS   Adj. R-squared:                  0.473\n",
            "Method:                 Least Squares   F-statistic:                 1.856e+04\n",
            "Date:                Tue, 22 Jul 2025   Prob (F-statistic):               0.00\n",
            "Time:                        06:09:53   Log-Likelihood:                -25623.\n",
            "No. Observations:               20640   AIC:                         5.125e+04\n",
            "Df Residuals:                   20638   BIC:                         5.127e+04\n",
            "Df Model:                           1                                         \n",
            "Covariance Type:            nonrobust                                         \n",
            "==============================================================================\n",
            "                 coef    std err          t      P>|t|      [0.025      0.975]\n",
            "------------------------------------------------------------------------------\n",
            "const          0.4509      0.013     34.082      0.000       0.425       0.477\n",
            "MedInc         0.4179      0.003    136.223      0.000       0.412       0.424\n",
            "==============================================================================\n",
            "Omnibus:                     4245.795   Durbin-Watson:                   0.655\n",
            "Prob(Omnibus):                  0.000   Jarque-Bera (JB):             9273.446\n",
            "Skew:                           1.191   Prob(JB):                         0.00\n",
            "Kurtosis:                       5.260   Cond. No.                         10.2\n",
            "==============================================================================\n",
            "\n",
            "Notes:\n",
            "[1] Standard Errors assume that the covariance matrix of the errors is correctly specified.\n"
          ]
        }
      ],
      "source": [
        "X = df2[[\"MedInc\"]]\n",
        "y = df2[\"MedHouseVal\"]\n",
        "X = sm.add_constant(X)\n",
        "model = sm.OLS(y, X).fit()\n",
        "\n",
        "print(model.summary())"
      ]
    }
  ],
  "metadata": {
    "colab": {
      "provenance": []
    },
    "kernelspec": {
      "display_name": "base",
      "language": "python",
      "name": "python3"
    },
    "language_info": {
      "codemirror_mode": {
        "name": "ipython",
        "version": 3
      },
      "file_extension": ".py",
      "mimetype": "text/x-python",
      "name": "python",
      "nbconvert_exporter": "python",
      "pygments_lexer": "ipython3",
      "version": "3.12.3"
    }
  },
  "nbformat": 4,
  "nbformat_minor": 0
}
