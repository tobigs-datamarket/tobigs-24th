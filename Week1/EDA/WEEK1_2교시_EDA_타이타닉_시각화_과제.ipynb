{
  "cells": [
    {
      "cell_type": "markdown",
      "metadata": {},
      "source": [
        "안녕하세요 투빅스 23기 서동혁입니다.\n",
        "\n",
        "아래는 **1주차 2교시 EDA과제**입니다.\n",
        "\n",
        "타이타닉 데이터를 활용하여 EDA, 시각화 실습과 예측모델 최적화를 진행해보려고 합니다.\n",
        "\n",
        "EDA와 시각화 실습은 발표에서 보신 것과 같이 차근차근 진행해주시면 됩니다.\n",
        "\n",
        "(물음표 부분을 채워서 실행해주세요!)\n",
        "\n",
        "예측 모델 최적화는 RandomForest 알고리즘을 피처 엔지니어링을 통해서 개선해보는 실습으로 진행하려고 합니다.\n",
        "\n",
        "너무 어렵지 않게 진행해보려고 하니 차근차근 EDA부터 모델 구성까지의 흐름을 가져가 보시면 좋을 것 같습니다.\n",
        "\n",
        "과제를 진행하며 행여나 모르시는 부분이나 이 사람이 왜 이런 문제를 냈을까 하는 궁금증이 생기신 분들은 언제든 연락주시면 열심히 대답해드리겠습니다.\n",
        "\n",
        "감사합니다."
      ]
    },
    {
      "cell_type": "markdown",
      "metadata": {},
      "source": [
        "## EDA"
      ]
    },
    {
      "cell_type": "code",
      "execution_count": null,
      "metadata": {
        "colab": {
          "base_uri": "https://localhost:8080/",
          "height": 206
        },
        "id": "KPNWUzREXrO6",
        "outputId": "86b0e4b9-25ce-45ba-e02c-1cbbef6c0d6e"
      },
      "outputs": [],
      "source": [
        "import seaborn as sns\n",
        "\n",
        "titanic = sns.load_dataset('titanic')\n",
        "titanic.head()"
      ]
    },
    {
      "cell_type": "code",
      "execution_count": null,
      "metadata": {
        "colab": {
          "base_uri": "https://localhost:8080/"
        },
        "id": "-v9VtKzoaDRv",
        "outputId": "3e3c0fb3-feb2-4ed1-b0c2-ed298e74c1d0"
      },
      "outputs": [],
      "source": [
        "titanic.info()"
      ]
    },
    {
      "cell_type": "code",
      "execution_count": null,
      "metadata": {
        "colab": {
          "base_uri": "https://localhost:8080/",
          "height": 300
        },
        "id": "MqLr95_rOiVi",
        "outputId": "472aee85-b756-4818-a3d3-155822ae84aa"
      },
      "outputs": [],
      "source": [
        "titanic.describe()"
      ]
    },
    {
      "cell_type": "code",
      "execution_count": null,
      "metadata": {
        "colab": {
          "base_uri": "https://localhost:8080/",
          "height": 394
        },
        "id": "X6AGvTx0hNFJ",
        "outputId": "4fa33329-5bfe-4626-c03c-564102c2263a"
      },
      "outputs": [],
      "source": [
        "titanic.describe(include='all') #--> unique, top, freq추가됨"
      ]
    },
    {
      "cell_type": "code",
      "execution_count": null,
      "metadata": {
        "colab": {
          "base_uri": "https://localhost:8080/",
          "height": 554
        },
        "id": "oxb2v9iLbogs",
        "outputId": "16a119f9-9d74-4a4b-ea56-ad39fa99f47f"
      },
      "outputs": [],
      "source": [
        "titanic.isnull().sum()"
      ]
    },
    {
      "cell_type": "code",
      "execution_count": null,
      "metadata": {
        "colab": {
          "base_uri": "https://localhost:8080/"
        },
        "id": "TEDkQDK8cFyO",
        "outputId": "1aee01ad-27f7-4394-a0b8-5fbfca13d11a"
      },
      "outputs": [],
      "source": [
        "titanic['age'].fillna(titanic['age'].median(), inplace=True)"
      ]
    },
    {
      "cell_type": "code",
      "execution_count": null,
      "metadata": {
        "colab": {
          "base_uri": "https://localhost:8080/",
          "height": 334
        },
        "id": "qpEntmpid57F",
        "outputId": "feaefe28-fa7f-450b-9630-eba3daffdb7e"
      },
      "outputs": [],
      "source": [
        "#열의 각 값에 대한 횟수 반환\n",
        "titanic['deck'].value_counts()"
      ]
    },
    {
      "cell_type": "code",
      "execution_count": null,
      "metadata": {
        "colab": {
          "base_uri": "https://localhost:8080/"
        },
        "id": "8gdiAzn_eUuM",
        "outputId": "a7482f33-58ee-48be-d29c-2b647ea6a20d"
      },
      "outputs": [],
      "source": [
        "# fillna => 결측값을 원하는 값으로 변경하는 메서드\n",
        "titanic['deck'].fillna('C', inplace=True)"
      ]
    },
    {
      "cell_type": "code",
      "execution_count": null,
      "metadata": {
        "colab": {
          "base_uri": "https://localhost:8080/",
          "height": 554
        },
        "id": "-XmRBthQUxmR",
        "outputId": "a4bd78ca-8349-4075-843e-e9567e65d274"
      },
      "outputs": [],
      "source": [
        "titanic.isnull().sum()"
      ]
    },
    {
      "cell_type": "markdown",
      "metadata": {},
      "source": [
        "**문제 1**"
      ]
    },
    {
      "cell_type": "markdown",
      "metadata": {
        "id": "mFovpjpYSNKf"
      },
      "source": [
        "**Q1) 생존자 비율?**"
      ]
    },
    {
      "cell_type": "code",
      "execution_count": null,
      "metadata": {
        "colab": {
          "base_uri": "https://localhost:8080/",
          "height": 178
        },
        "id": "2dZXfJ7BaqwL",
        "outputId": "ea5df75d-0552-4fea-b003-3290809f6113"
      },
      "outputs": [],
      "source": [
        "# value_counts => 각 value에 대한 횟수 반환\n",
        "titanic['survived'].value_counts()"
      ]
    },
    {
      "cell_type": "markdown",
      "metadata": {
        "id": "eJrs3MyqbLiu"
      },
      "source": [
        "**Q1) 탑승자 중 남여 비율?**"
      ]
    },
    {
      "cell_type": "code",
      "execution_count": null,
      "metadata": {
        "colab": {
          "base_uri": "https://localhost:8080/",
          "height": 178
        },
        "id": "MiaDJGGZWyCf",
        "outputId": "2a0e19e7-a92f-49ec-e697-d10ecf775b36"
      },
      "outputs": [],
      "source": [
        "titanic['???'].value_counts()"
      ]
    },
    {
      "cell_type": "markdown",
      "metadata": {
        "id": "3W9DiiY8bY0E"
      },
      "source": [
        "**Q2) 탑승자 중 남자가 많이 생존했을까? 여자가 많이 생존했을까??**"
      ]
    },
    {
      "cell_type": "code",
      "execution_count": null,
      "metadata": {
        "colab": {
          "base_uri": "https://localhost:8080/",
          "height": 240
        },
        "id": "FNSqxMS5gqvq",
        "outputId": "e6f9c9da-6040-416f-ee68-b7b6e7bac2bb"
      },
      "outputs": [],
      "source": [
        "titanic.groupby('sex')['????????'].value_counts() #0이면 사망, 1이면 생존"
      ]
    },
    {
      "cell_type": "code",
      "execution_count": null,
      "metadata": {
        "colab": {
          "base_uri": "https://localhost:8080/",
          "height": 240
        },
        "id": "EehVLf7HZHGH",
        "outputId": "e8bc1c18-9aa6-468c-e150-7a360f56585f"
      },
      "outputs": [],
      "source": [
        "titanic.groupby('survived')['???'].value_counts()"
      ]
    },
    {
      "cell_type": "code",
      "execution_count": null,
      "metadata": {
        "id": "KjFffIlxdIRF"
      },
      "outputs": [],
      "source": [
        "import seaborn as sns"
      ]
    },
    {
      "cell_type": "code",
      "execution_count": null,
      "metadata": {
        "colab": {
          "base_uri": "https://localhost:8080/",
          "height": 524
        },
        "id": "bv6vvzGJc_em",
        "outputId": "40ca3241-c93d-4062-e310-79d93d89a9fa"
      },
      "outputs": [],
      "source": [
        "sns.catplot(data=titanic, x=\"sex\", kind='count')"
      ]
    },
    {
      "cell_type": "code",
      "execution_count": null,
      "metadata": {
        "colab": {
          "base_uri": "https://localhost:8080/",
          "height": 523
        },
        "id": "vlEtQi-wZ-FB",
        "outputId": "98970658-277f-4e31-e8c9-654cb2f9cd53"
      },
      "outputs": [],
      "source": [
        "titanic\n",
        "\n",
        "sns.catplot(data=titanic, x=\"sex\", y='age')"
      ]
    },
    {
      "cell_type": "code",
      "execution_count": null,
      "metadata": {
        "colab": {
          "base_uri": "https://localhost:8080/",
          "height": 523
        },
        "id": "MbRmM3C6abMa",
        "outputId": "2c3c204a-6824-4715-8a39-9e3869b5e691"
      },
      "outputs": [],
      "source": [
        "sns.catplot(data=titanic, x=\"sex\", y='age', kind='bar')"
      ]
    },
    {
      "cell_type": "code",
      "execution_count": null,
      "metadata": {
        "colab": {
          "base_uri": "https://localhost:8080/",
          "height": 523
        },
        "id": "HXywYEQFiCpm",
        "outputId": "3dc8c639-b56f-4a95-b2cf-5b11b1b47d4e"
      },
      "outputs": [],
      "source": [
        "sns.catplot(data=titanic, x=\"embarked\", y=\"age\", hue='survived', jitter=False)"
      ]
    },
    {
      "cell_type": "code",
      "execution_count": null,
      "metadata": {
        "colab": {
          "base_uri": "https://localhost:8080/",
          "height": 871
        },
        "id": "DTd9eK1YbKOm",
        "outputId": "c176bc0c-7d3c-4dd5-d77b-12e2f87d206d"
      },
      "outputs": [],
      "source": [
        "sns.catplot(data=titanic, x=\"embarked\", y=\"age\", hue='sex', kind='swarm')"
      ]
    },
    {
      "cell_type": "code",
      "execution_count": null,
      "metadata": {
        "colab": {
          "base_uri": "https://localhost:8080/",
          "height": 523
        },
        "id": "gVANAQ2KcQVU",
        "outputId": "53d364cc-4141-4697-c9f8-2c6282835e71"
      },
      "outputs": [],
      "source": [
        "sns.catplot(data=titanic, x=\"embarked\", y=\"age\", hue='sex', kind='box')"
      ]
    },
    {
      "cell_type": "code",
      "execution_count": null,
      "metadata": {
        "colab": {
          "base_uri": "https://localhost:8080/",
          "height": 523
        },
        "id": "HB0CB0ipctUE",
        "outputId": "b3c3158c-b27c-4e05-ee3d-5632705674e8"
      },
      "outputs": [],
      "source": [
        "sns.displot(data=titanic, x='age', hue='survived', multiple=\"stack\") #multiple=\"stack\""
      ]
    },
    {
      "cell_type": "code",
      "execution_count": null,
      "metadata": {
        "id": "AiotF1Ync-36"
      },
      "outputs": [],
      "source": [
        "#상관분석 -\tsurvived-pclass\t/ age-sibsp\t등의 관계를 보는 것! heatmap"
      ]
    },
    {
      "cell_type": "code",
      "execution_count": null,
      "metadata": {
        "id": "uL2HpKVUjGf3"
      },
      "outputs": [],
      "source": [
        "titanic.replace({'female':0, 'male':1}, inplace=True)"
      ]
    },
    {
      "cell_type": "code",
      "execution_count": null,
      "metadata": {
        "colab": {
          "base_uri": "https://localhost:8080/",
          "height": 268
        },
        "id": "PRA9IK6FliQa",
        "outputId": "bbdb5c18-f18c-4d28-f91b-2a997d80f9aa"
      },
      "outputs": [],
      "source": [
        "c_df = titanic.select_dtypes(include='number').corr() #corr()메소드를 써줘라! -> 상관계수 계산해줌\n",
        "c_df"
      ]
    },
    {
      "cell_type": "code",
      "execution_count": null,
      "metadata": {
        "colab": {
          "base_uri": "https://localhost:8080/",
          "height": 452
        },
        "id": "9VeS6Tbrh_S6",
        "outputId": "28def14c-76b6-4f55-b160-d2de5dfeb8b9"
      },
      "outputs": [],
      "source": [
        "sns.heatmap(data=c_df)"
      ]
    },
    {
      "cell_type": "code",
      "execution_count": null,
      "metadata": {
        "colab": {
          "base_uri": "https://localhost:8080/",
          "height": 452
        },
        "id": "wc7PrFVvd5iR",
        "outputId": "c21c4844-a9b0-48fe-839a-7e50ffc49d61"
      },
      "outputs": [],
      "source": [
        "sns.heatmap(data=c_df, annot=True)"
      ]
    },
    {
      "cell_type": "code",
      "execution_count": null,
      "metadata": {
        "colab": {
          "base_uri": "https://localhost:8080/",
          "height": 1000
        },
        "id": "26v_EYxqhRy8",
        "outputId": "d14cd03b-b1e2-4990-af51-d92f53783df7"
      },
      "outputs": [],
      "source": [
        "sns.pairplot(data=titanic, hue='survived')"
      ]
    },
    {
      "cell_type": "markdown",
      "metadata": {},
      "source": [
        "# Random Forest 모델을 사용한 생존자 예측\n",
        "\n",
        "이제 Random Forest 모델을 사용하여 생존자를 예측해보겠습니다.\n",
        "\n",
        "차근차근 따라와 주세요!"
      ]
    },
    {
      "cell_type": "markdown",
      "metadata": {},
      "source": [
        "## RandomForest Base Model"
      ]
    },
    {
      "cell_type": "code",
      "execution_count": null,
      "metadata": {},
      "outputs": [],
      "source": [
        "# 필요한 라이브러리 import\n",
        "from sklearn.ensemble import RandomForestClassifier\n",
        "from sklearn.model_selection import train_test_split\n",
        "from sklearn.metrics import accuracy_score, classification_report, confusion_matrix\n",
        "from sklearn.preprocessing import LabelEncoder\n",
        "import pandas as pd\n",
        "import numpy as np\n"
      ]
    },
    {
      "cell_type": "code",
      "execution_count": null,
      "metadata": {},
      "outputs": [],
      "source": [
        "# 데이터 전처리 - 범주형 변수를 숫자로 변환\n",
        "# 데이터 복사본 생성\n",
        "titanic_model = titanic.copy()\n",
        "\n",
        "# embarked 열의 결측값 처리\n",
        "titanic_model['embarked'].fillna('S', inplace=True)\n",
        "\n",
        "# 범주형 변수 인코딩\n",
        "label_encoder = LabelEncoder()\n",
        "\n",
        "# embarked 인코딩\n",
        "titanic_model['embarked'] = label_encoder.fit_transform(titanic_model['embarked'])\n",
        "\n",
        "# deck 인코딩\n",
        "titanic_model['deck'] = label_encoder.fit_transform(titanic_model['deck'])\n",
        "\n",
        "# class 인코딩\n",
        "titanic_model['class'] = label_encoder.fit_transform(titanic_model['class'])\n",
        "\n",
        "# who 인코딩\n",
        "titanic_model['who'] = label_encoder.fit_transform(titanic_model['who'])\n",
        "\n",
        "# embark_town 인코딩\n",
        "titanic_model['embark_town'] = label_encoder.fit_transform(titanic_model['embark_town'])\n",
        "\n",
        "# alive 인코딩\n",
        "titanic_model['alive'] = label_encoder.fit_transform(titanic_model['alive'])\n",
        "\n",
        "# Boolean 변수를 숫자로 변환\n",
        "titanic_model['adult_male'] = titanic_model['adult_male'].astype(int)\n",
        "titanic_model['alone'] = titanic_model['alone'].astype(int)\n",
        "\n",
        "print(\"데이터 전처리 완료!\")\n",
        "print(\"데이터 타입 확인:\")\n",
        "print(titanic_model.dtypes)\n"
      ]
    },
    {
      "cell_type": "code",
      "execution_count": null,
      "metadata": {},
      "outputs": [],
      "source": [
        "# 특성과 타겟 분리\n",
        "# 타겟 변수 (예측하려는 변수)\n",
        "y = titanic_model['survived']\n",
        "\n",
        "# 특성 변수 (예측에 사용할 변수들)\n",
        "# 'survived'와 'alive'는 제외 (alive는 survived와 동일한 정보)\n",
        "X = titanic_model.drop(['survived', 'alive'], axis=1)\n",
        "\n",
        "print(\"특성 변수 목록:\")\n",
        "print(X.columns.tolist())\n",
        "print(f\"\\n데이터 형태: X = {X.shape}, y = {y.shape}\")\n",
        "\n",
        "# 훈련/테스트 데이터 분할 (80% 훈련, 20% 테스트)\n",
        "X_train, X_test, y_train, y_test = train_test_split(X, y, test_size=0.2, random_state=42)\n",
        "\n",
        "print(f\"\\n훈련 데이터: {X_train.shape}\")\n",
        "print(f\"테스트 데이터: {X_test.shape}\")\n"
      ]
    },
    {
      "cell_type": "code",
      "execution_count": null,
      "metadata": {},
      "outputs": [],
      "source": [
        "# Random Forest 모델 생성 및 학습\n",
        "# n_estimators: 트리의 개수\n",
        "# random_state: 재현 가능한 결과를 위한 시드값\n",
        "# max_depth: 트리의 최대 깊이\n",
        "rf_model = RandomForestClassifier(n_estimators=100, random_state=42, max_depth=10)\n",
        "\n",
        "# 모델 학습\n",
        "print(\"Random Forest 모델 학습 중...\")\n",
        "rf_model.fit(X_train, y_train)\n",
        "print(\"모델 학습 완료!\")\n",
        "\n",
        "# 예측 수행\n",
        "y_pred = rf_model.predict(X_test)\n",
        "\n",
        "# 정확도 계산\n",
        "accuracy = accuracy_score(y_test, y_pred)\n",
        "print(f\"\\n모델 정확도: {accuracy:.4f} ({accuracy*100:.2f}%)\")\n"
      ]
    },
    {
      "cell_type": "code",
      "execution_count": null,
      "metadata": {},
      "outputs": [],
      "source": [
        "# 상세한 성능 평가\n",
        "print(\"=== 분류 성능 리포트 ===\")\n",
        "print(classification_report(y_test, y_pred, target_names=['사망', '생존']))\n",
        "\n",
        "print(\"\\n=== 혼동 행렬 ===\")\n",
        "cm = confusion_matrix(y_test, y_pred)\n",
        "print(cm)\n",
        "\n",
        "print(\"\\n=== 혼동 행렬 해석 ===\")\n",
        "print(f\"실제 사망 - 예측 사망: {cm[0][0]}명\")\n",
        "print(f\"실제 사망 - 예측 생존: {cm[0][1]}명\")\n",
        "print(f\"실제 생존 - 예측 사망: {cm[1][0]}명\")\n",
        "print(f\"실제 생존 - 예측 생존: {cm[1][1]}명\")\n"
      ]
    },
    {
      "cell_type": "code",
      "execution_count": null,
      "metadata": {},
      "outputs": [],
      "source": [
        "# 특성 중요도 분석 및 시각화\n",
        "import matplotlib.pyplot as plt\n",
        "\n",
        "# 특성 중요도 가져오기\n",
        "feature_importance = rf_model.feature_importances_\n",
        "feature_names = X.columns\n",
        "\n",
        "# 특성 중요도를 데이터프레임으로 만들기\n",
        "importance_df = pd.DataFrame({\n",
        "    'feature': feature_names,\n",
        "    'importance': feature_importance\n",
        "}).sort_values('importance', ascending=False)\n",
        "\n",
        "print(\"=== 특성 중요도 ===\")\n",
        "print(importance_df)\n",
        "\n",
        "# 특성 중요도 시각화\n",
        "plt.figure(figsize=(10, 6))\n",
        "plt.bar(importance_df['feature'], importance_df['importance'])\n",
        "plt.title('Random Forest feature importance')\n",
        "plt.xlabel('feature')\n",
        "plt.ylabel('importance')\n",
        "plt.xticks(rotation=45)\n",
        "plt.tight_layout()\n",
        "plt.show()\n"
      ]
    },
    {
      "cell_type": "code",
      "execution_count": null,
      "metadata": {},
      "outputs": [],
      "source": [
        "# 예측 예시\n",
        "# 테스트 데이터에서 몇 개 샘플 선택하여 예측 결과 확인, 간단한 예시입니다. 한번 확인해보셔요.\n",
        "sample_indices = [0, 1, 2, 3, 4]\n",
        "sample_X = X_test.iloc[sample_indices]\n",
        "sample_y_true = y_test.iloc[sample_indices]\n",
        "sample_y_pred = rf_model.predict(sample_X)\n",
        "\n",
        "print(\"=== 예측 예시 ===\")\n",
        "for i, idx in enumerate(sample_indices):\n",
        "    actual = \"생존\" if sample_y_true.iloc[i] == 1 else \"사망\"\n",
        "    predicted = \"생존\" if sample_y_pred[i] == 1 else \"사망\"\n",
        "    result = \"✓\" if sample_y_true.iloc[i] == sample_y_pred[i] else \"✗\"\n",
        "    \n",
        "    print(f\"승객 {idx+1}: 실제 {actual} → 예측 {predicted} {result}\")\n",
        "\n",
        "# 예측 확률도 확인\n",
        "print(\"\\n=== 예측 확률 ===\")\n",
        "sample_proba = rf_model.predict_proba(sample_X)\n",
        "for i, idx in enumerate(sample_indices):\n",
        "    death_prob = sample_proba[i][0] * 100\n",
        "    survival_prob = sample_proba[i][1] * 100\n",
        "    print(f\"승객 {idx+1}: 사망 확률 {death_prob:.1f}%, 생존 확률 {survival_prob:.1f}%\")\n"
      ]
    },
    {
      "cell_type": "markdown",
      "metadata": {},
      "source": [
        "모델 요약\n",
        "\n",
        "Random Forest 모델 특징:\n",
        "- **알고리즘**: Random Forest (랜덤 포레스트)\n",
        "- **트리 개수**: 100개\n",
        "- **최대 깊이**: 10\n",
        "- **사용된 특성**: 모든 가능한 특성 (survived, alive 제외)\n",
        "\n",
        "주요 장점:\n",
        "1. **과적합 방지**: 여러 트리의 예측을 평균내어 일반화 성능이 좋음\n",
        "2. **특성 중요도**: 어떤 특성이 예측에 중요한지 알 수 있음\n",
        "3. **결측값 처리**: 결측값이 있어도 비교적 잘 동작함\n",
        "4. **해석 가능성**: 트리 기반 모델로 결과 해석이 가능함\n",
        "\n",
        "성능 개선 방법:\n",
        "- 하이퍼파라미터 튜닝 (GridSearchCV 사용)\n",
        "- 특성 엔지니어링 (새로운 특성 생성)\n",
        "- 교차 검증을 통한 모델 검증\n"
      ]
    },
    {
      "cell_type": "markdown",
      "metadata": {},
      "source": [
        "## 개선된 Random Forest 모델 (상위 중요도 특성 선택)\n",
        "\n",
        "특성 중요도를 기반으로 상위 중요도 특성들만 선택하여 모델을 개선해보겠습니다.\n",
        "\n",
        "우선 아래 top_n_features를 원하는 데로 바꿔보시면서 최적의 특성 선택을 조절해 나가주세요!\n"
      ]
    },
    {
      "cell_type": "code",
      "execution_count": null,
      "metadata": {},
      "outputs": [],
      "source": [
        "# 상위 중요도 특성 선택 (상위 n개 특성)\n",
        "top_n_features = ? # 이 부분을 원하는 숫자로 바꿔서(그동안 분석한 결과를 바탕으로) 테스트 해보세요\n",
        "top_features = importance_df.head(top_n_features)['feature'].tolist()\n",
        "\n",
        "print(f\"=== 상위 {top_n_features}개 중요도 특성 ===\")\n",
        "for i, feature in enumerate(top_features, 1):\n",
        "    importance_score = importance_df[importance_df['feature'] == feature]['importance'].values[0]\n",
        "    print(f\"{i}. {feature}: {importance_score:.4f}\")\n",
        "\n",
        "# 상위 특성들로 새로운 훈련/테스트 데이터 생성\n",
        "X_train_selected = X_train[top_features]\n",
        "X_test_selected = X_test[top_features]\n",
        "\n",
        "print(f\"\\n원본 데이터 특성 수: {X_train.shape[1]}\")\n",
        "print(f\"선택된 특성 수: {X_train_selected.shape[1]}\")\n",
        "print(f\"특성 감소율: {((X_train.shape[1] - X_train_selected.shape[1]) / X_train.shape[1] * 100):.1f}%\")\n"
      ]
    },
    {
      "cell_type": "markdown",
      "metadata": {},
      "source": [
        "top_n_features 개수에 따른 모델 변화가 있는지 확인하여 주세요"
      ]
    },
    {
      "cell_type": "code",
      "execution_count": null,
      "metadata": {},
      "outputs": [],
      "source": [
        "# 개선된 Random Forest 모델 학습\n",
        "rf_improved = RandomForestClassifier(\n",
        "    n_estimators=100, \n",
        "    random_state=42, \n",
        "    max_depth=10,\n",
        "    min_samples_split=5,  # 과적합 방지\n",
        "    min_samples_leaf=2    # 과적합 방지\n",
        ")\n",
        "\n",
        "print(\"개선된 Random Forest 모델 학습 중...\")\n",
        "rf_improved.fit(X_train_selected, y_train)\n",
        "print(\"개선된 모델 학습 완료!\")\n",
        "\n",
        "# 개선된 모델 예측\n",
        "y_pred_improved = rf_improved.predict(X_test_selected)\n",
        "\n",
        "# 개선된 모델 정확도\n",
        "accuracy_improved = accuracy_score(y_test, y_pred_improved)\n",
        "print(f\"\\n개선된 모델 정확도: {accuracy_improved:.4f} ({accuracy_improved*100:.2f}%)\")\n",
        "\n",
        "# 기존 모델과 비교\n",
        "print(f\"\\n=== 모델 성능 비교 ===\")\n",
        "print(f\"기존 모델 정확도: {accuracy:.4f} ({accuracy*100:.2f}%)\")\n",
        "print(f\"개선된 모델 정확도: {accuracy_improved:.4f} ({accuracy_improved*100:.2f}%)\")\n",
        "print(f\"성능 변화: {((accuracy_improved - accuracy) * 100):+.2f}%p\")\n"
      ]
    },
    {
      "cell_type": "code",
      "execution_count": null,
      "metadata": {},
      "outputs": [],
      "source": [
        "# 개선된 모델 상세 성능 평가\n",
        "print(\"=== 개선된 모델 분류 성능 리포트 ===\")\n",
        "print(classification_report(y_test, y_pred_improved, target_names=['사망', '생존']))\n",
        "\n",
        "print(\"\\n=== 개선된 모델 혼동 행렬 ===\")\n",
        "cm_improved = confusion_matrix(y_test, y_pred_improved)\n",
        "print(cm_improved)\n",
        "\n",
        "# 두 모델의 혼동 행렬 비교\n",
        "print(\"\\n=== 혼동 행렬 비교 ===\")\n",
        "print(\"기존 모델 혼동 행렬:\")\n",
        "print(cm)\n",
        "print(\"\\n개선된 모델 혼동 행렬:\")\n",
        "print(cm_improved)\n",
        "\n",
        "print(\"\\n=== 기본 모델 혼동 행렬 해석 ===\")\n",
        "print(f\"실제 사망 - 예측 사망: {cm[0][0]}명\")\n",
        "print(f\"실제 사망 - 예측 생존: {cm[0][1]}명\")\n",
        "print(f\"실제 생존 - 예측 사망: {cm[1][0]}명\")\n",
        "print(f\"실제 생존 - 예측 생존: {cm[1][1]}명\")\n",
        "\n",
        "print(\"\\n=== 개선된 모델 혼동 행렬 해석 ===\")\n",
        "print(f\"실제 사망 - 예측 사망: {cm_improved[0][0]}명\")\n",
        "print(f\"실제 사망 - 예측 생존: {cm_improved[0][1]}명\")\n",
        "print(f\"실제 생존 - 예측 사망: {cm_improved[1][0]}명\")\n",
        "print(f\"실제 생존 - 예측 생존: {cm_improved[1][1]}명\")\n",
        "\n",
        "# 세부 성능 지표 계산\n",
        "from sklearn.metrics import precision_score, recall_score, f1_score\n",
        "\n",
        "# 기존 모델 성능 지표\n",
        "precision_orig = precision_score(y_test, y_pred)\n",
        "recall_orig = recall_score(y_test, y_pred)\n",
        "f1_orig = f1_score(y_test, y_pred)\n",
        "\n",
        "# 개선된 모델 성능 지표\n",
        "precision_improved = precision_score(y_test, y_pred_improved)\n",
        "recall_improved = recall_score(y_test, y_pred_improved)\n",
        "f1_improved = f1_score(y_test, y_pred_improved)\n",
        "\n",
        "print(f\"\\n=== 상세 성능 지표 비교 ===\")\n",
        "print(f\"{'지표':<15} {'기존 모델':<15} {'개선된 모델':<15} {'변화량':<15}\")\n",
        "print(f\"{'='*60}\")\n",
        "print(f\"{'정확도':<15} {accuracy:<15.4f} {accuracy_improved:<15.4f} {accuracy_improved-accuracy:+.4f}\")\n",
        "print(f\"{'정밀도':<15} {precision_orig:<15.4f} {precision_improved:<15.4f} {precision_improved-precision_orig:+.4f}\")\n",
        "print(f\"{'재현율':<15} {recall_orig:<15.4f} {recall_improved:<15.4f} {recall_improved-recall_orig:+.4f}\")\n",
        "print(f\"{'F1-Score':<15} {f1_orig:<15.4f} {f1_improved:<15.4f} {f1_improved-f1_orig:+.4f}\")\n"
      ]
    },
    {
      "cell_type": "code",
      "execution_count": null,
      "metadata": {},
      "outputs": [],
      "source": [
        "# 개선된 모델의 특성 중요도 분석\n",
        "feature_importance_improved = rf_improved.feature_importances_\n",
        "\n",
        "# 개선된 모델의 특성 중요도 데이터프레임\n",
        "importance_df_improved = pd.DataFrame({\n",
        "    'feature': top_features,\n",
        "    'importance': feature_importance_improved\n",
        "}).sort_values('importance', ascending=False)\n",
        "\n",
        "print(\"=== 개선된 모델 특성 중요도 ===\")\n",
        "print(importance_df_improved)\n",
        "\n",
        "# 특성 중요도 시각화 비교\n",
        "fig, (ax1, ax2) = plt.subplots(1, 2, figsize=(16, 6))\n",
        "\n",
        "# 기존 모델 특성 중요도\n",
        "top_orig = importance_df.head(13)\n",
        "ax1.bar(top_orig['feature'], top_orig['importance'], color='skyblue', alpha=0.7)\n",
        "ax1.set_title('Base model (13 features)')\n",
        "ax1.set_xlabel('feature')\n",
        "ax1.set_ylabel('importance')\n",
        "ax1.tick_params(axis='x', rotation=45)\n",
        "\n",
        "# 개선된 모델 특성 중요도 (상위 n개만)\n",
        "ax2.bar(importance_df_improved['feature'], importance_df_improved['importance'], color='lightcoral', alpha=0.7)\n",
        "ax2.set_title(f'Improved model (top {top_n_features} features)')\n",
        "ax2.set_xlabel('feature')\n",
        "ax2.set_ylabel('importance')\n",
        "ax2.tick_params(axis='x', rotation=45)\n",
        "\n",
        "plt.tight_layout()\n",
        "plt.show()\n",
        "\n",
        "# 특성 중요도 변화 분석\n",
        "print(\"\\n=== 특성 중요도 변화 분석 ===\")\n",
        "for i, feature in enumerate(top_features):\n",
        "    orig_importance = importance_df[importance_df['feature'] == feature]['importance'].values[0]\n",
        "    improved_importance = importance_df_improved[importance_df_improved['feature'] == feature]['importance'].values[0]\n",
        "    change = improved_importance - orig_importance\n",
        "    print(f\"{feature}: {orig_importance:.4f} → {improved_importance:.4f} ({change:+.4f})\")\n"
      ]
    },
    {
      "cell_type": "code",
      "execution_count": null,
      "metadata": {},
      "outputs": [],
      "source": [
        "# 모델 학습 시간 비교\n",
        "import time\n",
        "\n",
        "# 기존 모델 학습 시간 측정\n",
        "start_time = time.time()\n",
        "rf_model_time = RandomForestClassifier(n_estimators=100, random_state=42, max_depth=10)\n",
        "rf_model_time.fit(X_train, y_train)\n",
        "original_time = time.time() - start_time\n",
        "\n",
        "# 개선된 모델 학습 시간 측정\n",
        "start_time = time.time()\n",
        "rf_improved_time = RandomForestClassifier(n_estimators=100, random_state=42, max_depth=10, min_samples_split=5, min_samples_leaf=2)\n",
        "rf_improved_time.fit(X_train_selected, y_train)\n",
        "improved_time = time.time() - start_time\n",
        "\n",
        "print(\"=== 모델 복잡도 및 효율성 비교 ===\")\n",
        "print(f\"기존 모델 학습 시간: {original_time:.4f}초\")\n",
        "print(f\"개선된 모델 학습 시간: {improved_time:.4f}초\")\n",
        "print(f\"학습 시간 단축: {((original_time - improved_time) / original_time * 100):.1f}%\")\n",
        "\n",
        "print(f\"\\n기존 모델 특성 수: {X_train.shape[1]}개\")\n",
        "print(f\"개선된 모델 특성 수: {X_train_selected.shape[1]}개\")\n",
        "print(f\"모델 복잡도 감소: {((X_train.shape[1] - X_train_selected.shape[1]) / X_train.shape[1] * 100):.1f}%\")\n",
        "\n",
        "# 메모리 사용량 추정 (대략적)\n",
        "original_memory = X_train.shape[1] * X_train.shape[0] * 8  # 8 bytes per float64\n",
        "improved_memory = X_train_selected.shape[1] * X_train_selected.shape[0] * 8\n",
        "print(f\"\\n메모리 사용량 추정:\")\n",
        "print(f\"기존 모델: {original_memory / 1024:.1f} KB\")\n",
        "print(f\"개선된 모델: {improved_memory / 1024:.1f} KB\")\n",
        "print(f\"메모리 절약: {((original_memory - improved_memory) / original_memory * 100):.1f}%\")\n"
      ]
    },
    {
      "cell_type": "code",
      "execution_count": null,
      "metadata": {},
      "outputs": [],
      "source": [
        "# 개선된 모델 예측 예시 및 확률 비교, 간단히 비교해보는 예시이므로 정확하지 않습니다!\n",
        "sample_indices = [0, 1, 2, 3, 4]\n",
        "sample_X_selected = X_test_selected.iloc[sample_indices]\n",
        "sample_y_true = y_test.iloc[sample_indices]\n",
        "\n",
        "# 두 모델의 예측 비교\n",
        "sample_y_pred_orig = rf_model.predict(X_test.iloc[sample_indices])\n",
        "sample_y_pred_improved = rf_improved.predict(sample_X_selected)\n",
        "\n",
        "# 두 모델의 예측 확률 비교\n",
        "sample_proba_orig = rf_model.predict_proba(X_test.iloc[sample_indices])\n",
        "sample_proba_improved = rf_improved.predict_proba(sample_X_selected)\n",
        "\n",
        "print(\"=== 두 모델의 예측 비교 ===\")\n",
        "print(f\"{'승객':<8} {'실제':<8} {'기존예측':<12} {'개선예측':<12} {'기존확률':<12} {'개선확률':<12}\")\n",
        "print(\"=\" * 70)\n",
        "\n",
        "for i, idx in enumerate(sample_indices):\n",
        "    actual = \"생존\" if sample_y_true.iloc[i] == 1 else \"사망\"\n",
        "    pred_orig = \"생존\" if sample_y_pred_orig[i] == 1 else \"사망\"\n",
        "    pred_improved = \"생존\" if sample_y_pred_improved[i] == 1 else \"사망\"\n",
        "    \n",
        "    prob_orig = sample_proba_orig[i][1] * 100  # 생존 확률\n",
        "    prob_improved = sample_proba_improved[i][1] * 100  # 생존 확률\n",
        "    \n",
        "    print(f\"{idx+1:<8} {actual:<8} {pred_orig:<12} {pred_improved:<12} {prob_orig:<12.1f} {prob_improved:<12.1f}\")\n",
        "\n",
        "# 예측 일치도 분석\n",
        "matches_orig = sum(sample_y_true.iloc[i] == sample_y_pred_orig[i] for i in range(len(sample_indices)))\n",
        "matches_improved = sum(sample_y_true.iloc[i] == sample_y_pred_improved[i] for i in range(len(sample_indices)))\n",
        "\n",
        "print(f\"\\n샘플 예측 정확도:\")\n",
        "print(f\"기존 모델: {matches_orig}/{len(sample_indices)} ({matches_orig/len(sample_indices)*100:.1f}%)\")\n",
        "print(f\"개선된 모델: {matches_improved}/{len(sample_indices)} ({matches_improved/len(sample_indices)*100:.1f}%)\")\n"
      ]
    },
    {
      "cell_type": "markdown",
      "metadata": {},
      "source": [
        "## 문제 2\n",
        "\n",
        "이제 아래 markdown으로 모델 개선 결과를 종합 분석 내용을 적어주세요.\n",
        "\n",
        "모델이 개선이 잘 안 되어도 좋으니 EDA, 시각화, 피처 엔지니어링까지 이어지는 흐름에서 얻은 인사이트를 적어주세요.\n",
        "\n",
        "Ex, 전체 피쳐(13개)를 전부 넣는 것보다 영향력이 높은 상위 피쳐를 넣은 이유.\n",
        "--> 좋아졌다면 왜 좋아졌는지, 나빠졌다면 왜 나빠졌는지\n",
        "\n",
        "EX2, 피처중 높은 영향력을 보이는 피처가 왜 그렇게 나온 것일지\n",
        "--> fare(요금) 지불은 부자들이 더 빠르게 탈출하여 살았을 수 있음을 암시... 등등"
      ]
    },
    {
      "cell_type": "markdown",
      "metadata": {},
      "source": []
    },
    {
      "cell_type": "markdown",
      "metadata": {},
      "source": [
        "아래는 보너스로 하이퍼파라미터 튜닝도 해보실 수 있습니다\n",
        "\n",
        "괜찮으시면 한번 해보시는 것도 좋아보입니다."
      ]
    },
    {
      "cell_type": "code",
      "execution_count": null,
      "metadata": {},
      "outputs": [],
      "source": [
        "# 보너스: 하이퍼파라미터 튜닝을 통한 추가 개선\n",
        "from sklearn.model_selection import GridSearchCV\n",
        "\n",
        "print(\"=== 하이퍼파라미터 튜닝 시작 ===\")\n",
        "print(\"주의: 시간이 다소 소요될 수 있습니다...\")\n",
        "\n",
        "# 하이퍼파라미터 그리드 정의\n",
        "param_grid = {\n",
        "    'n_estimators': [50, 100, 150],\n",
        "    'max_depth': [8, 10, 12],\n",
        "    'min_samples_split': [2, 5, 10],\n",
        "    'min_samples_leaf': [1, 2, 4]\n",
        "}\n",
        "\n",
        "# GridSearchCV 설정\n",
        "grid_search = GridSearchCV(\n",
        "    estimator=RandomForestClassifier(random_state=42),\n",
        "    param_grid=param_grid,\n",
        "    cv=5,  # 5-fold 교차검증\n",
        "    scoring='accuracy',\n",
        "    n_jobs=-1,  # 모든 CPU 코어 사용\n",
        "    verbose=1\n",
        ")\n",
        "\n",
        "# 하이퍼파라미터 튜닝 실행\n",
        "grid_search.fit(X_train_selected, y_train)\n",
        "\n",
        "print(f\"\\n=== 최적 하이퍼파라미터 ===\")\n",
        "print(f\"최적 파라미터: {grid_search.best_params_}\")\n",
        "print(f\"교차검증 최고 점수: {grid_search.best_score_:.4f}\")\n",
        "\n",
        "# 최적 모델로 예측\n",
        "best_model = grid_search.best_estimator_\n",
        "y_pred_best = best_model.predict(X_test_selected)\n",
        "accuracy_best = accuracy_score(y_test, y_pred_best)\n",
        "\n",
        "print(f\"\\n=== 최종 모델 성능 비교 ===\")\n",
        "print(f\"기존 모델 정확도: {accuracy:.4f}\")\n",
        "print(f\"개선된 모델 정확도: {accuracy_improved:.4f}\")\n",
        "print(f\"최적 튜닝 모델 정확도: {accuracy_best:.4f}\")\n",
        "print(f\"최종 성능 향상: {((accuracy_best - accuracy) * 100):+.2f}%p\")\n"
      ]
    },
    {
      "cell_type": "markdown",
      "metadata": {},
      "source": [
        "고생하셨습니다"
      ]
    }
  ],
  "metadata": {
    "colab": {
      "provenance": []
    },
    "kernelspec": {
      "display_name": "base",
      "language": "python",
      "name": "python3"
    },
    "language_info": {
      "codemirror_mode": {
        "name": "ipython",
        "version": 3
      },
      "file_extension": ".py",
      "mimetype": "text/x-python",
      "name": "python",
      "nbconvert_exporter": "python",
      "pygments_lexer": "ipython3",
      "version": "3.11.7"
    }
  },
  "nbformat": 4,
  "nbformat_minor": 0
}
